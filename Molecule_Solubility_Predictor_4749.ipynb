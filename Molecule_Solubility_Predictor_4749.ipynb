{
  "nbformat": 4,
  "nbformat_minor": 0,
  "metadata": {
    "colab": {
      "provenance": [],
      "authorship_tag": "ABX9TyPKc24gaWN5F2G83B32XE23",
      "include_colab_link": true
    },
    "kernelspec": {
      "name": "python3",
      "display_name": "Python 3"
    },
    "language_info": {
      "name": "python"
    }
  },
  "cells": [
    {
      "cell_type": "markdown",
      "metadata": {
        "id": "view-in-github",
        "colab_type": "text"
      },
      "source": [
        "<a href=\"https://colab.research.google.com/github/Deepa018-coder/Molecule_Solubility_Predictor_4749.ipynb/blob/main/Molecule_Solubility_Predictor_4749.ipynb\" target=\"_parent\"><img src=\"https://colab.research.google.com/assets/colab-badge.svg\" alt=\"Open In Colab\"/></a>"
      ]
    },
    {
      "cell_type": "code",
      "source": [
        "# Install necessary libraries\n",
        "# ============================================================\n",
        "!pip install rdkit-pypi pandas seaborn scikit-learn tqdm \"numpy<2.0\" -q"
      ],
      "metadata": {
        "id": "Kz5JKmMFZE2p"
      },
      "execution_count": null,
      "outputs": []
    },
    {
      "cell_type": "code",
      "source": [
        "# Mount Drive (if the CSV is in Drive)\n",
        "# ------------------------------------------------------------\n",
        "from google.colab import drive\n",
        "drive.mount('/content/drive')\n",
        "\n",
        "# Path to your file – adjust if necessary\n",
        "csv_path = '/content/Smiles_unique.csv'   # <— change if in another folder"
      ],
      "metadata": {
        "id": "EFeuMAg6ZPch"
      },
      "execution_count": null,
      "outputs": []
    },
    {
      "cell_type": "code",
      "source": [
        "# ------------------------------------------------------------\n",
        "import pandas as pd\n",
        "df = pd.read_csv(csv_path)\n",
        "print(df.head())"
      ],
      "metadata": {
        "id": "08ahBlG7Zj6e"
      },
      "execution_count": null,
      "outputs": []
    },
    {
      "cell_type": "code",
      "source": [
        "# ------------------------------------------------------------\n",
        "from rdkit import Chem\n",
        "from rdkit.Chem import Crippen, Descriptors\n",
        "from math import log10\n",
        "from tqdm.auto import tqdm\n",
        "import numpy as np # Import numpy\n",
        "import pandas as pd # Import pandas as it might be needed explicitly\n",
        "\n",
        "# Simplify esol_logS to just the final calculation\n",
        "def esol_logS_formula(mw, logP, rotables, aromatic_proportion):\n",
        "    '''\n",
        "    Delaney ESOL (2004) logS formula.\n",
        "    '''\n",
        "    logS = 0.16 - 0.63*logP - 0.0062*mw + 0.066*rotables - 0.74*aromatic_proportion\n",
        "    return logS       # higher = more soluble\n",
        "\n",
        "# Ensure the 'mol' column exists and is populated\n",
        "df['mol'] = df['SMILES'].progress_apply(Chem.MolFromSmiles)\n",
        "\n",
        "# Identify and report invalid SMILES strings (where mol is None)\n",
        "invalid_smiles_df = df[df['mol'].isnull()]\n",
        "if not invalid_smiles_df.empty:\n",
        "    print(f\"Warning: Could not parse {len(invalid_smiles_df)} SMILES strings. These rows will be excluded from descriptor calculation.\")\n",
        "    # Optional: Print the invalid SMILES strings\n",
        "    # print(\"Invalid SMILES strings:\")\n",
        "    # for index, row in invalid_smiles_df.iterrows():\n",
        "    #     print(f\"Index {index}: {row['SMILES']}\")\n",
        "\n",
        "# Filter out rows with invalid SMILES before calculating descriptors\n",
        "df_valid = df[df['mol'].notnull()].copy()\n",
        "\n",
        "# Initialize columns for descriptors and LogS with NaN in the original dataframe first\n",
        "df['MW'] = np.nan\n",
        "df['LogP'] = np.nan\n",
        "df['RotatableBonds'] = np.nan\n",
        "df['AromaticProportion'] = np.nan\n",
        "df['LogS'] = np.nan\n",
        "\n",
        "\n",
        "# Iterate through valid molecules and calculate descriptors and LogS\n",
        "for index, row in tqdm(df_valid.iterrows(), total=len(df_valid), desc=\"Calculating Descriptors and LogS\"):\n",
        "    mol = row['mol']\n",
        "    try:\n",
        "        # Calculate descriptors\n",
        "        mw = Descriptors.MolWt(mol)\n",
        "        logP = Crippen.MolLogP(mol)\n",
        "        rotables = Descriptors.NumRotatableBonds(mol)\n",
        "\n",
        "        # Handle aromatic proportion calculation\n",
        "        if mol.GetNumAtoms() == 0:\n",
        "            aromatic_proportion = 0.0\n",
        "        else:\n",
        "            aromatic_atoms = sum(a.GetIsAromatic() for a in mol.GetAtoms())\n",
        "            aromatic_proportion = aromatic_atoms / mol.GetNumAtoms()\n",
        "\n",
        "        # Store calculated descriptors back in the *original* dataframe using the original index\n",
        "        original_index = row.name # Get the original index\n",
        "        df.loc[original_index, 'MW'] = mw\n",
        "        df.loc[original_index, 'LogP'] = logP\n",
        "        df.loc[original_index, 'RotatableBonds'] = rotables\n",
        "        df.loc[original_index, 'AromaticProportion'] = aromatic_proportion\n",
        "\n",
        "        # Calculate and store LogS\n",
        "        df.loc[original_index, 'LogS'] = esol_logS_formula(mw, logP, rotables, aromatic_proportion)\n",
        "\n",
        "    except Exception as e:\n",
        "        # Catch any errors during descriptor calculation for this row\n",
        "        original_index = row.name\n",
        "        print(f\"Error calculating descriptors for SMILES: {row['SMILES']} at original index {original_index} - {e}\")\n",
        "        # LogS and descriptors for this row will remain NaN as initialized\n",
        "\n",
        "\n",
        "# Report SMILES strings that had calculation errors (mol is not None, but LogS is NaN)\n",
        "# Need to check in the original df\n",
        "calculation_errors_df = df[(df['mol'].notnull()) & (df['LogS'].isnull())]\n",
        "if not calculation_errors_df.empty:\n",
        "     print(f\"Warning: Could not calculate LogS for {len(calculation_errors_df)} molecules due to calculation errors.\")\n",
        "     # Optional: Print SMILES strings with calculation errors\n",
        "     # print(\"SMILES strings with calculation errors:\")\n",
        "     # for index, row in calculation_errors_df.iterrows():\n",
        "     #     print(f\"Index {index}: {row['SMILES']}\")\n",
        "\n",
        "\n",
        "print(df[['SMILES','LogS']].head())"
      ],
      "metadata": {
        "id": "hAjqJ51lZs2p"
      },
      "execution_count": null,
      "outputs": []
    },
    {
      "cell_type": "code",
      "source": [
        "# Quick distribution plot\n",
        "# ------------------------------------------------------------\n",
        "import seaborn as sns, matplotlib.pyplot as plt\n",
        "sns.histplot(df['LogS'], bins=40, kde=True)\n",
        "plt.xlabel('Predicted Log S (ESOL)')\n",
        "plt.title('Distribution of predicted aqueous solubility')\n",
        "plt.show()"
      ],
      "metadata": {
        "id": "v5Og32uVa9ZC"
      },
      "execution_count": null,
      "outputs": []
    },
    {
      "cell_type": "code",
      "source": [
        "# IC50 handling\n",
        "# ------------------------------------------------------------\n",
        "# If you already HAVE experimental IC50 values:\n",
        "#  - Add a column ‘IC50_nM’ (or whatever units) to your CSV.\n",
        "#  - Reload and treat it like any numeric column (plot, regressions…)\n",
        "\n",
        "# If you do NOT have them and want to PREDICT IC50:\n",
        "#  (a) Decide which target protein the IC50 refers to!\n",
        "#  (b) Gather a public dataset for that target (ChEMBL, PubChem).\n",
        "#  (c) Split: train / valid / test.\n",
        "#  (d) Train a QSAR / deep-learning model on molecular descriptors or fingerprints.\n",
        "#  (e) Use it to predict IC50 for this SMILES list.\n",
        "\n",
        "# Example skeleton for fingerprint + RandomForest model  (needs a labelled set)\n",
        "from rdkit import Chem\n",
        "from rdkit.Chem import AllChem\n",
        "from sklearn.ensemble import RandomForestRegressor\n",
        "from sklearn.model_selection import train_test_split\n",
        "import pandas as pd # Import pandas\n",
        "\n",
        "def featurize(smiles):\n",
        "    # Ensure mol is not None\n",
        "    mol = Chem.MolFromSmiles(smiles)\n",
        "    if mol:\n",
        "        # Ensure the fingerprint is converted to a list\n",
        "        fp = AllChem.GetMorganFingerprintAsBitVect(mol, radius=2, nBits=2048)\n",
        "        return list(fp)\n",
        "    else:\n",
        "        return None # Return None for invalid SMILES\n",
        "\n",
        "# The following code is commented out because it requires a labelled dataset (bio_df)\n",
        "# If you have a labelled dataset, uncomment and adapt the code below:\n",
        "\n",
        "# Suppose you collected a dataframe `bio_df` with columns ['SMILES','IC50_nM']\n",
        "# bio_df['X'] = bio_df['SMILES'].apply(featurize)\n",
        "#\n",
        "# # Filter out rows where featurization failed\n",
        "# bio_df_valid = bio_df[bio_df['X'].notnull()].copy()\n",
        "#\n",
        "# if not bio_df_valid.empty:\n",
        "#     X = list(bio_df_valid['X'])\n",
        "#     y = bio_df_valid['IC50_nM']\n",
        "#\n",
        "#     # Check if there's enough data for splitting\n",
        "#     if len(X) > 1:\n",
        "#         X_train, X_test, y_train, y_test = train_test_split(X, y, test_size=0.2, random_state=0)\n",
        "#\n",
        "#         model = RandomForestRegressor(n_estimators=500, n_jobs=-1)\n",
        "#         model.fit(X_train, y_train)\n",
        "#\n",
        "#         print('Test R²:', model.score(X_test, y_test))\n",
        "#\n",
        "#         # Predict IC50 for the original dataframe (handling potential invalid SMILES)\n",
        "#         df['IC50_pred_nM'] = df['SMILES'].apply(lambda s: model.predict([featurize(s)])[0] if featurize(s) is not None else np.nan)\n",
        "#     else:\n",
        "#         print(\"Warning: Not enough valid data to train a model.\")\n",
        "# else:\n",
        "#     print(\"Warning: No valid molecules for featurization from the labelled dataset.\")"
      ],
      "metadata": {
        "id": "Bvlcogm7bH4M"
      },
      "execution_count": null,
      "outputs": []
    },
    {
      "cell_type": "code",
      "source": [
        "# Save results back to Drive\n",
        "# ------------------------------------------------------------\n",
        "out_path = '/content/drive/MyDrive/Smiles_unique_with_LogS.csv'\n",
        "df.drop(columns=['mol']).to_csv(out_path, index=False)\n",
        "print('Saved:', out_path)"
      ],
      "metadata": {
        "id": "RukWU3sUbl1k"
      },
      "execution_count": null,
      "outputs": []
    }
  ]
}